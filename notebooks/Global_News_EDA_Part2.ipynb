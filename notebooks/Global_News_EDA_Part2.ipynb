{
 "cells": [
  {
   "cell_type": "code",
   "execution_count": 5,
   "metadata": {},
   "outputs": [
    {
     "name": "stdout",
     "output_type": "stream",
     "text": [
      "Data loaded successfully. Number of rows in the dataset: 58356\n"
     ]
    }
   ],
   "source": [
    "# Cell 1: Load the data\n",
    "import pandas as pd\n",
    "\n",
    "# Assuming the data directory is correctly placed in relation to the notebook\n",
    "news_data = pd.read_csv('../data/data.csv')\n",
    "\n",
    "# This line ensures that the data is loaded. If there's an error after this, it's likely due to the file path.\n",
    "print(\"Data loaded successfully. Number of rows in the dataset:\", len(news_data))\n"
   ]
  },
  {
   "cell_type": "code",
   "execution_count": 11,
   "metadata": {},
   "outputs": [
    {
     "name": "stdout",
     "output_type": "stream",
     "text": [
      "article_id             0\n",
      "source_id          40585\n",
      "source_name            0\n",
      "author              2163\n",
      "title                  0\n",
      "description           10\n",
      "url                    0\n",
      "url_to_image        3451\n",
      "published_at           0\n",
      "content                0\n",
      "category              21\n",
      "article                0\n",
      "title_sentiment        0\n",
      "dtype: int64\n"
     ]
    }
   ],
   "source": [
    "# Cell 2: Check for missing values\n",
    "missing_values = news_data.isnull().sum()\n",
    "print(missing_values)\n"
   ]
  },
  {
   "cell_type": "code",
   "execution_count": 13,
   "metadata": {},
   "outputs": [
    {
     "name": "stdout",
     "output_type": "stream",
     "text": [
      "          article_id\n",
      "count   58356.000000\n",
      "mean   298958.734492\n",
      "std    216023.477569\n",
      "min       418.000000\n",
      "25%    121776.500000\n",
      "50%    251651.000000\n",
      "75%    451541.500000\n",
      "max    781308.000000\n"
     ]
    }
   ],
   "source": [
    "# Calculate summary statistics for numerical columns\n",
    "summary_statistics = news_data.describe()\n",
    "print(summary_statistics)\n"
   ]
  },
  {
   "cell_type": "code",
   "execution_count": 14,
   "metadata": {},
   "outputs": [
    {
     "name": "stdout",
     "output_type": "stream",
     "text": [
      "Unique Source Names: ['Forbes' 'CNA' 'Time' 'Phys.Org' 'Digital Trends' 'Al Jazeera English'\n",
      " 'BBC News' 'Deadline' 'Euronews' 'RT' 'The Punch'\n",
      " 'International Business Times' 'The Indian Express' 'ETF Daily News'\n",
      " 'ABC News' 'Globalsecurity.org' 'Marketscreener.com' 'The Times of India'\n",
      " 'GlobeNewswire' 'CNN' 'Business Insider' 'Gizmodo.com' 'Wired'\n",
      " 'The Verge' 'NPR' 'Boing Boing' 'Android Central' 'ReadWrite'\n",
      " 'AllAfrica - Top Africa News']\n",
      "Unique Title Sentiments: ['Neutral' 'Positive' 'Negative']\n"
     ]
    }
   ],
   "source": [
    "# Print unique values for 'source_name'\n",
    "print(\"Unique Source Names:\", news_data['source_name'].unique())\n",
    "\n",
    "# Print unique values for 'title_sentiment'\n",
    "print(\"Unique Title Sentiments:\", news_data['title_sentiment'].unique())\n"
   ]
  },
  {
   "cell_type": "code",
   "execution_count": 6,
   "metadata": {},
   "outputs": [
    {
     "data": {
      "image/png": "[encoded data removed]",
      "text/plain": [
       "<Figure size 1000x600 with 1 Axes>"
      ]
     },
     "metadata": {},
     "output_type": "display_data"
    }
   ],
   "source": [
    "import matplotlib.pyplot as plt\n",
    "import seaborn as sns\n",
    "\n",
    "# Set the aesthetic style of the plots\n",
    "sns.set_style('whitegrid')\n",
    "\n",
    "# Plot the distribution of sentiments\n",
    "plt.figure(figsize=(10, 6))\n",
    "sns.countplot(data=news_data, x='title_sentiment')\n",
    "plt.title('Distribution of Title Sentiments')\n",
    "plt.show()\n"
   ]
  },
  {
   "cell_type": "code",
   "execution_count": 7,
   "metadata": {},
   "outputs": [
    {
     "name": "stderr",
     "output_type": "stream",
     "text": [
      "C:\\Users\\hp\\AppData\\Local\\Temp\\ipykernel_23344\\3317379451.py:5: FutureWarning: A value is trying to be set on a copy of a DataFrame or Series through chained assignment using an inplace method.\n",
      "The behavior will change in pandas 3.0. This inplace method will never work because the intermediate object on which we are setting values always behaves as a copy.\n",
      "\n",
      "For example, when doing 'df[col].method(value, inplace=True)', try using 'df.method({col: value}, inplace=True)' or df[col] = df[col].method(value) instead, to perform the operation inplace on the original object.\n",
      "\n",
      "\n",
      "  news_data['author'].fillna('Unknown', inplace=True)\n"
     ]
    }
   ],
   "source": [
    "# Option to drop 'source_id' column\n",
    "# news_data_cleaned = news_data.drop(columns=['source_id'])\n",
    "\n",
    "# Fill missing 'author' names with 'Unknown'\n",
    "news_data['author'].fillna('Unknown', inplace=True)\n"
   ]
  },
  {
   "cell_type": "code",
   "execution_count": null,
   "metadata": {},
   "outputs": [],
   "source": [
    "# For example, you could create a new feature for article length\n",
    "news_data['article_length'] = news_data['article'].apply(len)\n"
   ]
  }
 ],
 "metadata": {
  "kernelspec": {
   "display_name": "Python 3",
   "language": "python",
   "name": "python3"
  },
  "language_info": {
   "codemirror_mode": {
    "name": "ipython",
    "version": 3
   },
   "file_extension": ".py",
   "mimetype": "text/x-python",
   "name": "python",
   "nbconvert_exporter": "python",
   "pygments_lexer": "ipython3",
   "version": "3.11.5"
  }
 },
 "nbformat": 4,
 "nbformat_minor": 2
}
